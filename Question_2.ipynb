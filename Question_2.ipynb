{
 "cells": [
  {
   "cell_type": "markdown",
   "id": "86d1248a",
   "metadata": {},
   "source": [
    "## Question 2"
   ]
  },
  {
   "cell_type": "markdown",
   "id": "81be957c",
   "metadata": {},
   "source": [
    "Write a program that takes a string as input, and counts the frequency of each word in the string, there might  be repeated characters in the string. Your task is to find the highest frequency and returns the length of the  highest-frequency word. <br>\n",
    "\n",
    "Note - You have to write at least 2 additional test cases in which your program will run successfully and provide  an explanation for the same.  <br>\n",
    "\n",
    "Example input - string = “write write write all the number from from from 1 to 100” <br>\n",
    "\n",
    "Example output - 5 <br>\n",
    "\n",
    "Explanation - From the given string we can note that the most frequent words are “write” and “from” and  the maximum value of both the values is “write” and its corresponding length is 5 <br>"
   ]
  },
  {
   "cell_type": "code",
   "execution_count": 5,
   "id": "1576ee4d",
   "metadata": {
    "ExecuteTime": {
     "end_time": "2024-02-04T03:55:44.672374Z",
     "start_time": "2024-02-04T03:55:44.667584Z"
    }
   },
   "outputs": [
    {
     "name": "stdout",
     "output_type": "stream",
     "text": [
      "5\n"
     ]
    }
   ],
   "source": [
    "from collections import Counter\n",
    "\n",
    "def highest_frequency_word_length(s):\n",
    "    words = s.split()\n",
    "    word_counts = Counter(words)\n",
    "\n",
    "    max_frequency = max(word_counts.values())\n",
    "    max_frequency_words = [word for word, count in word_counts.items() if count == max_frequency]\n",
    "\n",
    "    # Assuming there is at least one word in the string\n",
    "    highest_frequency_word_length = len(max(max_frequency_words, key=len))\n",
    "\n",
    "    return highest_frequency_word_length\n",
    "\n",
    "# Example usage:\n",
    "input_string = \"write write write all the number from from from 1 to 100\"\n",
    "output = highest_frequency_word_length(input_string)\n",
    "print(output)  # Output: 5\n"
   ]
  },
  {
   "cell_type": "markdown",
   "id": "8085bc69",
   "metadata": {},
   "source": [
    "1. The Counter class from the collections module is used to count the frequency of each word in the string.\n",
    "2. The max_frequency_words list contains all words with the maximum frequency.\n",
    "3. The length of the longest word in the max_frequency_words list is computed using len()."
   ]
  },
  {
   "cell_type": "code",
   "execution_count": 6,
   "id": "1e4db949",
   "metadata": {
    "ExecuteTime": {
     "end_time": "2024-02-04T03:56:19.580096Z",
     "start_time": "2024-02-04T03:56:19.576082Z"
    }
   },
   "outputs": [
    {
     "name": "stdout",
     "output_type": "stream",
     "text": [
      "6\n"
     ]
    }
   ],
   "source": [
    "input_string = \"apple orange banana apple orange banana apple orange banana\"\n",
    "output = highest_frequency_word_length(input_string)\n",
    "print(output) "
   ]
  },
  {
   "cell_type": "markdown",
   "id": "581e2bae",
   "metadata": {},
   "source": [
    "In this case, the words \"apple\", \"orange\", and \"banana\" all have the same maximum frequency, but the longest one is \"banana\" with a length of 6."
   ]
  },
  {
   "cell_type": "code",
   "execution_count": 7,
   "id": "1f01259e",
   "metadata": {
    "ExecuteTime": {
     "end_time": "2024-02-04T03:56:37.218738Z",
     "start_time": "2024-02-04T03:56:37.215574Z"
    }
   },
   "outputs": [
    {
     "name": "stdout",
     "output_type": "stream",
     "text": [
      "11\n"
     ]
    }
   ],
   "source": [
    "input_string = \"programming is fun and programming is creative\"\n",
    "output = highest_frequency_word_length(input_string)\n",
    "print(output)  # Output: 11"
   ]
  },
  {
   "cell_type": "markdown",
   "id": "403ac35b",
   "metadata": {},
   "source": [
    "Explanation: In this case, the word \"programming\" has the highest frequency, and its length is 11."
   ]
  },
  {
   "cell_type": "code",
   "execution_count": null,
   "id": "563dde24",
   "metadata": {},
   "outputs": [],
   "source": []
  }
 ],
 "metadata": {
  "kernelspec": {
   "display_name": "Python 3 (ipykernel)",
   "language": "python",
   "name": "python3"
  },
  "language_info": {
   "codemirror_mode": {
    "name": "ipython",
    "version": 3
   },
   "file_extension": ".py",
   "mimetype": "text/x-python",
   "name": "python",
   "nbconvert_exporter": "python",
   "pygments_lexer": "ipython3",
   "version": "3.11.5"
  },
  "varInspector": {
   "cols": {
    "lenName": 16,
    "lenType": 16,
    "lenVar": 40
   },
   "kernels_config": {
    "python": {
     "delete_cmd_postfix": "",
     "delete_cmd_prefix": "del ",
     "library": "var_list.py",
     "varRefreshCmd": "print(var_dic_list())"
    },
    "r": {
     "delete_cmd_postfix": ") ",
     "delete_cmd_prefix": "rm(",
     "library": "var_list.r",
     "varRefreshCmd": "cat(var_dic_list()) "
    }
   },
   "types_to_exclude": [
    "module",
    "function",
    "builtin_function_or_method",
    "instance",
    "_Feature"
   ],
   "window_display": false
  }
 },
 "nbformat": 4,
 "nbformat_minor": 5
}
